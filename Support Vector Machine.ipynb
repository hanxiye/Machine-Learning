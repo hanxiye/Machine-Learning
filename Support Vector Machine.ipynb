{
 "cells": [
  {
   "cell_type": "markdown",
   "metadata": {},
   "source": [
    "# Support Vector Machine\n",
    "\n",
    "This is from Homework 3 of EECS 545 in Winter 2016.\n",
    "\n",
    "Recall that maximizing the soft margin in SVM is equivalent to the following minimization problem:    \n",
    "$\n",
    "\\begin{equation}\n",
    "\\min_{{\\bf w}, b}   \\frac{1}{2} \\|{\\bf w}\\|^2 + C \\sum_{i=1}^N \\xi_i    \n",
    "\\end{equation}$\n",
    "\n",
    "subject to\n",
    "$\n",
    "\\begin{equation}\n",
    "t^{(i)} ( {\\bf w}^T {\\bf x}^{(i)} + b ) \\ge 1 - \\xi_i,  \\\\\n",
    "\\xi_i \\ge 0 \\qquad (i = 1, \\ldots, N)\n",
    "\\end{equation}$\n",
    "\n",
    "Equivalently, we can solve the following unconstrained minimization problem: \n",
    "$\n",
    "\\begin{equation}\n",
    "\\min_{{\\bf w}, b}  \\frac{1}{2} \\Vert{\\bf w}\\Vert^2 + C \\sum_{i=1}^N \\max(0, 1 - t^{(i)} ({\\bf w}^T {\\bf x}^{(i)} + b )\n",
    "\\end{equation}$"
   ]
  },
  {
   "cell_type": "markdown",
   "metadata": {},
   "source": [
    "(a) Prove that minimization problem (1) and (2) are equivalent"
   ]
  },
  {
   "cell_type": "markdown",
   "metadata": {
    "collapsed": false
   },
   "source": [
    "Proof: We know that if any $\\xi_i^*$ is optimal, one of the conditions $t^{(i)}({\\bf w}^T {\\bf x}^{(i)} + b)  = 1 - \\xi_i^*$ and $\\xi_i^* = 0$ must hold. \n",
    "Therefore, we can plug $\\xi_i^* = \\max(0, 1 - t^{(i)} ( {\\bf w}^T {\\bf x}^{(i)} + b ) $ and get the unconstrained minimization problem. "
   ]
  },
  {
   "cell_type": "markdown",
   "metadata": {},
   "source": [
    "(b) Let $(\\mathbf{w}^*, b^*, \\boldsymbol{\\xi}^*)$ be the solution of minimization problem (1). Show that if $\\xi_i^*>0$, then the distance from the training data point $\\mathbf{x}^{(i)}$ to the margin hyperplane $t^{(i)}((\\mathbf{w}^*)^T\\mathbf{x}+b^*)=1$ is proportional to $\\xi^*_i$."
   ]
  },
  {
   "cell_type": "markdown",
   "metadata": {},
   "source": [
    "Proof: We know from (a) that if $\\xi_i^*>0$, we must have $\\xi_i^* = 1 - t^{(i)}({\\bf w}^T {\\bf x}^{(i)} + b) > 0.$\n",
    "The distance from $\\mathbf{x}^{(i)}$ to the margin hyperplane is simply\n",
    "\\begin{equation}\n",
    "|r| = \\frac{|t^{(i)}((\\mathbf{w}^*)^T\\mathbf{x}+b^*)-1|}{\\|w\\|} = \\frac{1-t^{(i)}((\\mathbf{w}^*)^T\\mathbf{x}+b^*)}{\\|\\mathbf{w}\\|} = \\frac{\\xi_i^*}{\\|\\mathbf{w}\\|}\n",
    "\\end{equation} "
   ]
  },
  {
   "cell_type": "markdown",
   "metadata": {
    "collapsed": true
   },
   "source": [
    "(c) The error function in minimization problem (2) is\n",
    "\t$$E({\\bf w}, b) =  \\frac{1}{2} \\Vert{\\bf w}\\Vert^2 + C \\sum_{i=1}^N \\max\\left(0, 1 - t^{(i)} ( {\\bf w}^T {\\bf x}^{(i)} + b ) \\right)$$\n",
    "\tFind its derivatives: $\\nabla_{\\bf w} E({\\bf w}, b)$ and $\\frac{\\partial}{\\partial b} E({\\bf w}, b)$. Where the derivative is undefined, use a subderivative."
   ]
  },
  {
   "cell_type": "markdown",
   "metadata": {},
   "source": [
    "Taking derivative with respect to ${\\bf w}$\n",
    "\\begin{equation}\n",
    "\\nabla_{\\bf w} E({\\bf w}, b) = {\\bf w} + C\\sum_{i=1}^N \\bf{1}_{\\{t^{(i)}({\\bf w}^\\top x^{(i)}+b) < 1 \\}} \\cdot (-t^{(i)}x^{(i)})\n",
    "\\end{equation}\n",
    "\n",
    "Taking derivative with respect to $b$,\n",
    "\\begin{equation}\n",
    "\\frac{\\partial}{\\partial b} E({\\bf w}, b) =  C\\sum_{i=1}^N \\bf{1}_{\\{t^{(i)}({\\bf w}^\\top x^{(i)}+b) < 1 \\}} \\cdot (-t^{(i)})\n",
    "\\end{equation}"
   ]
  },
  {
   "cell_type": "markdown",
   "metadata": {},
   "source": [
    "(d) Implement the soft-margin SVM using batch gradient descent.  \n",
    "The learning rate for the $j$-th iteration is defined as:   \n",
    "    \\begin{equation}\n",
    "        \\alpha(j) = \\frac{\\eta_0}{1 + j \\cdot \\eta_0}    \n",
    "    \\end{equation}   \n",
    "Set $\\eta_0$ to $0.001$ and the slack cost $C$ to $3$. Show the iteration-versus-accuracy (training accuracy) plot. The training and test data/labels are provided in [digits\\_training\\_data.csv](https://github.com/hanxiye/Machine-Learning/blob/master/SVM_Data/digits_training_data.csv), [digits\\_training\\_labels.csv](https://github.com/hanxiye/Machine-Learning/blob/master/SVM_Data/digits_training_labels.csv), [digits\\_test\\_data.csv](https://github.com/hanxiye/Machine-Learning/blob/master/SVM_Data/digits_test_data.csv) and [digits\\_test\\_labels.csv](https://github.com/hanxiye/Machine-Learning/blob/master/SVM_Data/digits_test_labels.csv)."
   ]
  },
  {
   "cell_type": "code",
   "execution_count": 6,
   "metadata": {
    "collapsed": false
   },
   "outputs": [
    {
     "data": {
      "image/png": "[encoded data removed]",
      "text/plain": [
       "<matplotlib.figure.Figure at 0x10e633ba8>"
      ]
     },
     "metadata": {},
     "output_type": "display_data"
    }
   ],
   "source": [
    "import numpy as np\n",
    "trainData = np.loadtxt('/Users/hanxiye/Desktop/Winter 2016/EECS 545/HW3/digits_training_data.csv', delimiter=',')\n",
    "trainLabels = np.loadtxt('/Users/hanxiye/Desktop/Winter 2016/EECS 545/HW3/digits_training_labels.csv', delimiter=',')\n",
    "testData = np.loadtxt('/Users/hanxiye/Desktop/Winter 2016/EECS 545/HW3/digits_test_data.csv', delimiter=',')\n",
    "testLabels = np.loadtxt('/Users/hanxiye/Desktop/Winter 2016/EECS 545/HW3/digits_test_labels.csv', delimiter=',')\n",
    "\n",
    "for i in range(1000):\n",
    "    if(trainLabels[i]==4):\n",
    "        trainLabels[i] = 1\n",
    "    else:\n",
    "        trainLabels[i] = -1\n",
    "\n",
    "from __future__ import division\n",
    "\n",
    "def Ewb_grad(w,b):\n",
    "    Ew = np.zeros(676)\n",
    "    Eb = np.zeros((1000,1))\n",
    "    for i in range(1000):\n",
    "        if trainLabels[i] * (np.dot(trainData[i,:],w)+b)<1:\n",
    "            Ew = Ew - trainLabels[i]*(trainData[i,:].T)\n",
    "            Eb[i] = -3*trainLabels[i]\n",
    "        else:\n",
    "            Ew = Ew\n",
    "            Eb[i] = 0\n",
    "    Ew_g = Ew + w\n",
    "    Eb_g = np.sum(Eb)\n",
    "    return Ew_g, Eb_g;\n",
    "\n",
    "w0 = np.zeros(676, dtype = np.float)\n",
    "b0 = 0.0\n",
    "NumIterations = 100\n",
    "C = 3.0\n",
    "eta = 0.001\n",
    "accuracy = np.zeros(NumIterations)\n",
    "for j in range(99):    \n",
    "    wg , bg = Ewb_grad(w0,b0)\n",
    "    w0 = w0 - eta/(1 +(j+1)*eta) * wg\n",
    "    b0 = b0 - eta/(1 + (j+1)*eta) * bg\n",
    "    correct = 0\n",
    "    for i in range(1000):\n",
    "        if trainLabels[i] * (np.dot(trainData[i,:],w0)+b0) > 0:\n",
    "            correct = correct + 1\n",
    "    accuracy[j+1] = correct / 1000\n",
    "\n",
    "from matplotlib import pyplot as plt\n",
    "x = np.linspace(0,100,100)\n",
    "plt.plot(x,accuracy,label=\"iteration-accuracy\")\n",
    "plt.show()"
   ]
  },
  {
   "cell_type": "code",
   "execution_count": null,
   "metadata": {
    "collapsed": true
   },
   "outputs": [],
   "source": []
  }
 ],
 "metadata": {
  "anaconda-cloud": {},
  "kernelspec": {
   "display_name": "Python [conda root]",
   "language": "python",
   "name": "conda-root-py"
  },
  "language_info": {
   "codemirror_mode": {
    "name": "ipython",
    "version": 3
   },
   "file_extension": ".py",
   "mimetype": "text/x-python",
   "name": "python",
   "nbconvert_exporter": "python",
   "pygments_lexer": "ipython3",
   "version": "3.5.2"
  }
 },
 "nbformat": 4,
 "nbformat_minor": 1
}
